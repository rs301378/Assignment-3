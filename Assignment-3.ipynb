{
 "cells": [
  {
   "cell_type": "markdown",
   "metadata": {},
   "source": [
    "<b>1.1 Write a Python Program to implement your own myreduce() function which works exactly like Python's built-in function reduce()</b>"
   ]
  },
  {
   "cell_type": "code",
   "execution_count": 49,
   "metadata": {},
   "outputs": [
    {
     "name": "stdout",
     "output_type": "stream",
     "text": [
      "Sum of the list using myreduce function is: 21\n"
     ]
    }
   ],
   "source": [
    "def myreduce(seq, item_list):\n",
    "    result = item_list[0]\n",
    "    \n",
    "    for i in item_list[1:]:\n",
    "        result = seq(result, i)\n",
    "    return result\n",
    "      \n",
    "print(\"Sum of the list using myreduce function is: \" + str(myreduce(lambda a,b: a+b, [4,6,5,6])))"
   ]
  },
  {
   "cell_type": "markdown",
   "metadata": {},
   "source": [
    "<b>1.2 Write a Python program to implement your own myfilter() function which works exactly like Python's built-in function filter()</b>"
   ]
  },
  {
   "cell_type": "code",
   "execution_count": 57,
   "metadata": {},
   "outputs": [
    {
     "name": "stdout",
     "output_type": "stream",
     "text": [
      "Filter even numbers from the list using myfilter function: [0, 2, 6, 12, 36]\n"
     ]
    }
   ],
   "source": [
    "def myfilter(seq, item_list):\n",
    "    result = []\n",
    "    for i in item_list:\n",
    "        if seq(i):\n",
    "            result.append(i)\n",
    "    return result\n",
    "\n",
    "print(\"Filter even numbers from the list using myfilter function: \" + str(myfilter(lambda n : n%2 == 0, [0,1,2,5,3,6,12,36,47])))\n",
    "    "
   ]
  },
  {
   "cell_type": "markdown",
   "metadata": {},
   "source": [
    "<b>2. Implement List comprehensions to produce the following lists. Write List comprehensions to produce the following Lists :-</b> <br>\n",
    "['x', 'xx', 'xxx', 'xxxx', 'y', 'yy', 'yyy', 'yyyy', 'z', 'zz', 'zzz', 'zzzz'] <br>\n",
    "['x', 'y', 'z', 'xx', 'yy', 'zz', 'xx', 'yy', 'zz', 'xxxx', 'yyyy', 'zzzz'] <br>\n",
    "[[2], [3], [4], [3], [4], [5], [4], [5], [6]] <br>\n",
    "[[2, 3, 4, 5], [3, 4, 5, 6], [4, 5, 6, 7], [5, 6, 7, 8]] <br>\n",
    "[(1, 1), (2, 1), (3, 1), (1, 2), (2, 2), (3, 2), (1, 3), (2, 3), (3, 3)]\n"
   ]
  },
  {
   "cell_type": "code",
   "execution_count": 81,
   "metadata": {},
   "outputs": [
    {
     "name": "stdout",
     "output_type": "stream",
     "text": [
      "['x', 'xx', 'xxx', 'xxxx', 'y', 'yy', 'yyy', 'yyyy', 'z', 'zz', 'zzz', 'zzzz']\n",
      "['x', 'y', 'z', 'xx', 'yy', 'zz', 'xxx', 'yyy', 'zzz', 'xxxx', 'yyyy', 'zzzz']\n",
      "[[2], [3], [4], [3], [4], [5], [4], [5], [6]]\n",
      "[[2, 3, 4, 5], [3, 4, 5, 6], [4, 5, 6, 7], [5, 6, 7, 8]]\n",
      "[(1, 1), (1, 2), (1, 3), (2, 1), (2, 2), (2, 3), (3, 1), (3, 2), (3, 3)]\n"
     ]
    }
   ],
   "source": [
    "l1 = ['x','y','z']\n",
    "result = [i*x for i in l1 for x in range(1,5)]\n",
    "print(result)\n",
    "\n",
    "l2 = ['x', 'y', 'z']\n",
    "result = [i*x for x in range(1,5) for i in l2 ]\n",
    "print(result)\n",
    "\n",
    "l3 = [2, 3, 4]\n",
    "result = [[i+x] for i in l3 for x in range(0,3)]\n",
    "print(result)\n",
    "\n",
    "l4 = [2, 3, 4, 5]\n",
    "result = [ [i+x for i in l4] for x in range(0,4)]\n",
    "print(result)\n",
    "\n",
    "l5 = [1, 2, 3]\n",
    "result = [ (i,x) for i in l5 for x in l5]\n",
    "print(result)"
   ]
  }
 ],
 "metadata": {
  "kernelspec": {
   "display_name": "Python 3",
   "language": "python",
   "name": "python3"
  },
  "language_info": {
   "codemirror_mode": {
    "name": "ipython",
    "version": 3
   },
   "file_extension": ".py",
   "mimetype": "text/x-python",
   "name": "python",
   "nbconvert_exporter": "python",
   "pygments_lexer": "ipython3",
   "version": "3.7.3"
  }
 },
 "nbformat": 4,
 "nbformat_minor": 2
}
